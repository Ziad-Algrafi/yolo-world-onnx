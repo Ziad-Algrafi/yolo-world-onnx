{
  "nbformat": 4,
  "nbformat_minor": 0,
  "metadata": {
    "colab": {
      "provenance": []
    },
    "kernelspec": {
      "name": "python3",
      "display_name": "Python 3"
    },
    "language_info": {
      "name": "python"
    }
  },
  "cells": [
    {
      "cell_type": "markdown",
      "source": [
        "Install YOLO-World-ONNX:"
      ],
      "metadata": {
        "id": "iJZeny0RyJCE"
      }
    },
    {
      "cell_type": "code",
      "source": [
        "!pip install yolo-world-onnx"
      ],
      "metadata": {
        "id": "du1zbd2UyM8S"
      },
      "execution_count": null,
      "outputs": []
    },
    {
      "cell_type": "markdown",
      "source": [
        "Download a pre-trained ONNX model:\n"
      ],
      "metadata": {
        "id": "zHHom7ybyPyA"
      }
    },
    {
      "cell_type": "code",
      "source": [
        "!wget https://github.com/Ziad-Algrafi/ODLabel/raw/main/assets/yolov8m-worldv2.onnx"
      ],
      "metadata": {
        "id": "UsbPU_NFyZxX"
      },
      "execution_count": null,
      "outputs": []
    },
    {
      "cell_type": "markdown",
      "source": [
        "Run inference on an image:"
      ],
      "metadata": {
        "id": "gR7NpmZkyd42"
      }
    },
    {
      "cell_type": "code",
      "source": [
        "from yolo_world_onnx import YOLOWORLD\n",
        "import cv2 as cv\n",
        "from google.colab.patches import cv2_imshow\n",
        "\n",
        "# Load the YOLO model\n",
        "model_path = \"yolov8m-worldv2.onnx\"\n",
        "model = YOLOWORLD(model_path, device=\"cpu\")\n",
        "\n",
        "# Set the class names\n",
        "class_names = [\"person\", \"car\", \"dog\", \"cat\"]\n",
        "model.set_classes(class_names)\n",
        "\n",
        "# Retrieve the names\n",
        "names = model.names\n",
        "\n",
        "# Load an image\n",
        "image_url = \"https://example.com/image.jpg\"\n",
        "!wget -O image.jpg {image_url}\n",
        "image = cv.imread(\"image.jpg\")\n",
        "\n",
        "# Perform object detection\n",
        "boxes, scores, class_ids = model(image, conf=0.5, imgsz=640, iou=0.4)\n",
        "\n",
        "# Draw bounding boxes on the image\n",
        "for box, score, class_id in zip(boxes, scores, class_ids):\n",
        "    x, y, w, h = box\n",
        "    x1, y1 = int(x - w / 2), int(y - h / 2)\n",
        "    x2, y2 = int(x + w / 2), int(y + h / 2)\n",
        "    cv.rectangle(image, (x1, y1), (x2, y2), (0, 255, 0), 2)\n",
        "    class_name = names[class_id]\n",
        "    cv.putText(image, f\"{class_name}: {score:.2f}\", (x1, y1 - 10), cv.FONT_HERSHEY_SIMPLEX, 0.9, (0, 255, 0), 2)\n",
        "\n",
        "# Display the image\n",
        "cv2_imshow(image)"
      ],
      "metadata": {
        "id": "1mCF09o_yhL6"
      },
      "execution_count": null,
      "outputs": []
    },
    {
      "cell_type": "markdown",
      "source": [
        "Run inference on a video:\n"
      ],
      "metadata": {
        "id": "Odkl0NWpyq1f"
      }
    },
    {
      "cell_type": "code",
      "source": [
        "from yolo_world_onnx import YOLOWORLD\n",
        "import cv2 as cv\n",
        "from google.colab.patches import cv2_imshow\n",
        "\n",
        "# Load the YOLO model\n",
        "model_path = \"yolov8m-worldv2.onnx\"\n",
        "model = YOLOWORLD(model_path, device=\"cpu\")\n",
        "\n",
        "# Set the class names\n",
        "class_names = [\"person\", \"car\", \"dog\", \"cat\"]\n",
        "model.set_classes(class_names)\n",
        "\n",
        "# Retrieve the names\n",
        "names = model.names\n",
        "\n",
        "# Open a video file or capture from a camera\n",
        "video_path = \"/path/to/your/video.mp4\"\n",
        "cap = cv.VideoCapture(video_path)\n",
        "\n",
        "while True:\n",
        "    # Read a frame from the video\n",
        "    ret, frame = cap.read()\n",
        "    if not ret:\n",
        "        break\n",
        "\n",
        "    # Perform object detection\n",
        "    boxes, scores, class_ids = model(frame, conf=0.35, imgsz=640, iou=0.4)\n",
        "\n",
        "    # Draw bounding boxes on the frame\n",
        "    for box, score, class_id in zip(boxes, scores, class_ids):\n",
        "        x, y, w, h = box\n",
        "        x1, y1 = int(x - w / 2), int(y - h / 2)\n",
        "        x2, y2 = int(x + w / 2), int(y + h / 2)\n",
        "        cv.rectangle(frame, (x1, y1), (x2, y2), (0, 255, 0), 2)\n",
        "        class_name = names[class_id]\n",
        "        cv.putText(frame, f\"{class_name}: {score:.2f}\", (x1, y1 - 10), cv.FONT_HERSHEY_SIMPLEX, 0.9, (0, 255, 0), 2)\n",
        "\n",
        "    # Display the frame\n",
        "    cv2_imshow(frame)\n",
        "    if cv.waitKey(1) & 0xFF == ord('q'):\n",
        "        break\n",
        "\n",
        "cap.release()\n",
        "cv.destroyAllWindows()"
      ],
      "metadata": {
        "id": "kCKrzsEJysrs"
      },
      "execution_count": null,
      "outputs": []
    }
  ]
}